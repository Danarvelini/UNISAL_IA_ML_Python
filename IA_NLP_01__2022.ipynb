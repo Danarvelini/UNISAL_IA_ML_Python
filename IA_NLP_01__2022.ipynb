{
  "nbformat": 4,
  "nbformat_minor": 0,
  "metadata": {
    "colab": {
      "name": "IA_NLP_01__2022.ipynb",
      "provenance": [],
      "authorship_tag": "ABX9TyNNOGt9TQ15l1kugTPSb0Ek",
      "include_colab_link": true
    },
    "kernelspec": {
      "name": "python3",
      "display_name": "Python 3"
    },
    "language_info": {
      "name": "python"
    }
  },
  "cells": [
    {
      "cell_type": "markdown",
      "metadata": {
        "id": "view-in-github",
        "colab_type": "text"
      },
      "source": [
        "<a href=\"https://colab.research.google.com/github/Danhausen/UNISAL_IA_ML_Python/blob/main/IA_NLP_01__2022.ipynb\" target=\"_parent\"><img src=\"https://colab.research.google.com/assets/colab-badge.svg\" alt=\"Open In Colab\"/></a>"
      ]
    },
    {
      "cell_type": "code",
      "execution_count": 1,
      "metadata": {
        "id": "TaaHJfToxwCt"
      },
      "outputs": [],
      "source": [
        "#Aula 1 e 2"
      ]
    }
  ]
}